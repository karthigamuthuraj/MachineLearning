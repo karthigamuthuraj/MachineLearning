{
 "cells": [
  {
   "cell_type": "code",
   "execution_count": 1,
   "id": "72f3e4fc",
   "metadata": {},
   "outputs": [],
   "source": [
    "import pandas as pd\n",
    "import numpy as np\n",
    "from sklearn.model_selection import train_test_split\n",
    "from sklearn.metrics import r2_score\n",
    "from sklearn import tree\n",
    "from sklearn.ensemble import RandomForestRegressor\n",
    "import numpy as np\n",
    "import matplotlib.pyplot as plt\n",
    "import pickle"
   ]
  },
  {
   "cell_type": "code",
   "execution_count": 2,
   "id": "fb9b1182",
   "metadata": {},
   "outputs": [],
   "source": [
    "# Load the dataset\n",
    "dataset = pd.read_csv(\"Diamonds_data.csv\")"
   ]
  },
  {
   "cell_type": "code",
   "execution_count": 3,
   "id": "5b64bc10",
   "metadata": {},
   "outputs": [
    {
     "data": {
      "text/html": [
       "<div>\n",
       "<style scoped>\n",
       "    .dataframe tbody tr th:only-of-type {\n",
       "        vertical-align: middle;\n",
       "    }\n",
       "\n",
       "    .dataframe tbody tr th {\n",
       "        vertical-align: top;\n",
       "    }\n",
       "\n",
       "    .dataframe thead th {\n",
       "        text-align: right;\n",
       "    }\n",
       "</style>\n",
       "<table border=\"1\" class=\"dataframe\">\n",
       "  <thead>\n",
       "    <tr style=\"text-align: right;\">\n",
       "      <th></th>\n",
       "      <th>carat</th>\n",
       "      <th>cut</th>\n",
       "      <th>color</th>\n",
       "      <th>clarity</th>\n",
       "      <th>price</th>\n",
       "      <th>x</th>\n",
       "      <th>y</th>\n",
       "      <th>z</th>\n",
       "    </tr>\n",
       "  </thead>\n",
       "  <tbody>\n",
       "    <tr>\n",
       "      <th>0</th>\n",
       "      <td>0.23</td>\n",
       "      <td>Ideal</td>\n",
       "      <td>E</td>\n",
       "      <td>SI2</td>\n",
       "      <td>326</td>\n",
       "      <td>3.95</td>\n",
       "      <td>3.98</td>\n",
       "      <td>2.43</td>\n",
       "    </tr>\n",
       "    <tr>\n",
       "      <th>1</th>\n",
       "      <td>0.21</td>\n",
       "      <td>Premium</td>\n",
       "      <td>E</td>\n",
       "      <td>SI1</td>\n",
       "      <td>326</td>\n",
       "      <td>3.89</td>\n",
       "      <td>3.84</td>\n",
       "      <td>2.31</td>\n",
       "    </tr>\n",
       "    <tr>\n",
       "      <th>2</th>\n",
       "      <td>0.23</td>\n",
       "      <td>Good</td>\n",
       "      <td>E</td>\n",
       "      <td>VS1</td>\n",
       "      <td>327</td>\n",
       "      <td>4.05</td>\n",
       "      <td>4.07</td>\n",
       "      <td>2.31</td>\n",
       "    </tr>\n",
       "    <tr>\n",
       "      <th>3</th>\n",
       "      <td>0.29</td>\n",
       "      <td>Premium</td>\n",
       "      <td>I</td>\n",
       "      <td>VS2</td>\n",
       "      <td>334</td>\n",
       "      <td>4.20</td>\n",
       "      <td>4.23</td>\n",
       "      <td>2.63</td>\n",
       "    </tr>\n",
       "    <tr>\n",
       "      <th>4</th>\n",
       "      <td>0.31</td>\n",
       "      <td>Good</td>\n",
       "      <td>J</td>\n",
       "      <td>SI2</td>\n",
       "      <td>335</td>\n",
       "      <td>4.34</td>\n",
       "      <td>4.35</td>\n",
       "      <td>2.75</td>\n",
       "    </tr>\n",
       "    <tr>\n",
       "      <th>...</th>\n",
       "      <td>...</td>\n",
       "      <td>...</td>\n",
       "      <td>...</td>\n",
       "      <td>...</td>\n",
       "      <td>...</td>\n",
       "      <td>...</td>\n",
       "      <td>...</td>\n",
       "      <td>...</td>\n",
       "    </tr>\n",
       "    <tr>\n",
       "      <th>53935</th>\n",
       "      <td>0.72</td>\n",
       "      <td>Ideal</td>\n",
       "      <td>D</td>\n",
       "      <td>SI1</td>\n",
       "      <td>2757</td>\n",
       "      <td>5.75</td>\n",
       "      <td>5.76</td>\n",
       "      <td>3.50</td>\n",
       "    </tr>\n",
       "    <tr>\n",
       "      <th>53936</th>\n",
       "      <td>0.72</td>\n",
       "      <td>Good</td>\n",
       "      <td>D</td>\n",
       "      <td>SI1</td>\n",
       "      <td>2757</td>\n",
       "      <td>5.69</td>\n",
       "      <td>5.75</td>\n",
       "      <td>3.61</td>\n",
       "    </tr>\n",
       "    <tr>\n",
       "      <th>53937</th>\n",
       "      <td>0.70</td>\n",
       "      <td>Very Good</td>\n",
       "      <td>D</td>\n",
       "      <td>SI1</td>\n",
       "      <td>2757</td>\n",
       "      <td>5.66</td>\n",
       "      <td>5.68</td>\n",
       "      <td>3.56</td>\n",
       "    </tr>\n",
       "    <tr>\n",
       "      <th>53938</th>\n",
       "      <td>0.86</td>\n",
       "      <td>Premium</td>\n",
       "      <td>H</td>\n",
       "      <td>SI2</td>\n",
       "      <td>2757</td>\n",
       "      <td>6.15</td>\n",
       "      <td>6.12</td>\n",
       "      <td>3.74</td>\n",
       "    </tr>\n",
       "    <tr>\n",
       "      <th>53939</th>\n",
       "      <td>0.75</td>\n",
       "      <td>Ideal</td>\n",
       "      <td>D</td>\n",
       "      <td>SI2</td>\n",
       "      <td>2757</td>\n",
       "      <td>5.83</td>\n",
       "      <td>5.87</td>\n",
       "      <td>3.64</td>\n",
       "    </tr>\n",
       "  </tbody>\n",
       "</table>\n",
       "<p>53940 rows × 8 columns</p>\n",
       "</div>"
      ],
      "text/plain": [
       "       carat        cut color clarity  price     x     y     z\n",
       "0       0.23      Ideal     E     SI2    326  3.95  3.98  2.43\n",
       "1       0.21    Premium     E     SI1    326  3.89  3.84  2.31\n",
       "2       0.23       Good     E     VS1    327  4.05  4.07  2.31\n",
       "3       0.29    Premium     I     VS2    334  4.20  4.23  2.63\n",
       "4       0.31       Good     J     SI2    335  4.34  4.35  2.75\n",
       "...      ...        ...   ...     ...    ...   ...   ...   ...\n",
       "53935   0.72      Ideal     D     SI1   2757  5.75  5.76  3.50\n",
       "53936   0.72       Good     D     SI1   2757  5.69  5.75  3.61\n",
       "53937   0.70  Very Good     D     SI1   2757  5.66  5.68  3.56\n",
       "53938   0.86    Premium     H     SI2   2757  6.15  6.12  3.74\n",
       "53939   0.75      Ideal     D     SI2   2757  5.83  5.87  3.64\n",
       "\n",
       "[53940 rows x 8 columns]"
      ]
     },
     "execution_count": 3,
     "metadata": {},
     "output_type": "execute_result"
    }
   ],
   "source": [
    "dataset"
   ]
  },
  {
   "cell_type": "code",
   "execution_count": 4,
   "id": "cde14201",
   "metadata": {},
   "outputs": [],
   "source": [
    "# Perform one-hot encoding on categorical variables\n",
    "dataset = pd.get_dummies(dataset, dtype=int, drop_first=True)"
   ]
  },
  {
   "cell_type": "code",
   "execution_count": 5,
   "id": "320ba5fe",
   "metadata": {},
   "outputs": [],
   "source": [
    "# Define independent and dependent variables\n",
    "independent = dataset[['carat', 'x', 'y', 'z', 'cut_Good', 'cut_Ideal', 'cut_Premium',\n",
    "                       'cut_Very Good', 'color_E', 'color_F', 'color_G', 'color_H', 'color_I',\n",
    "                       'color_J', 'clarity_IF', 'clarity_SI1', 'clarity_SI2', 'clarity_VS1',\n",
    "                       'clarity_VS2', 'clarity_VVS1', 'clarity_VVS2']]\n",
    "dependent = dataset['price']"
   ]
  },
  {
   "cell_type": "code",
   "execution_count": 6,
   "id": "1d4bf6f1",
   "metadata": {},
   "outputs": [],
   "source": [
    "# Split into training set and test set\n",
    "X_train, X_test, y_train, y_test = train_test_split(independent, dependent, test_size=1/3, random_state=0)"
   ]
  },
  {
   "cell_type": "code",
   "execution_count": 7,
   "id": "95331154",
   "metadata": {},
   "outputs": [],
   "source": [
    "\n",
    "regressor=RandomForestRegressor(n_estimators=50,random_state=0)\n",
    "regressor=regressor.fit(X_train,y_train)"
   ]
  },
  {
   "cell_type": "code",
   "execution_count": 8,
   "id": "87b20eef",
   "metadata": {},
   "outputs": [],
   "source": [
    "y_pred = regressor.predict(X_test)"
   ]
  },
  {
   "cell_type": "code",
   "execution_count": null,
   "id": "6b7b84d1",
   "metadata": {},
   "outputs": [],
   "source": [
    "y_pred"
   ]
  },
  {
   "cell_type": "code",
   "execution_count": 9,
   "id": "b39363dd",
   "metadata": {},
   "outputs": [
    {
     "name": "stdout",
     "output_type": "stream",
     "text": [
      " R^2 Score: 0.9718025947879263\n"
     ]
    }
   ],
   "source": [
    "\n",
    "r_score=r2_score(y_test,y_pred)\n",
    "print(f\" R^2 Score: {r_score}\")"
   ]
  },
  {
   "cell_type": "code",
   "execution_count": 10,
   "id": "20cf374e",
   "metadata": {},
   "outputs": [],
   "source": [
    "# Save the model to a file using pickle\n",
    "\n",
    "filename=\"final_model_randomforest_diamond_price.sav\"\n",
    "pickle.dump(regressor,open(filename,\"wb\"))"
   ]
  },
  {
   "cell_type": "code",
   "execution_count": 11,
   "id": "a36ed8dc",
   "metadata": {},
   "outputs": [],
   "source": [
    "# Example predictions\n",
    "def predict_price(carat, cut, color, clarity, x, y, z):\n",
    "    filename=\"final_model_randomforest_diamond_price.sav\"\n",
    "    model=pickle.load(open(filename,\"rb\"))\n",
    "    # One-hot encode categorical inputs based on the model's categories\n",
    "    cut_categories = ['Good', 'Ideal', 'Premium', 'Very Good']\n",
    "    color_categories = ['E', 'F', 'G', 'H', 'I', 'J']\n",
    "    clarity_categories = ['IF', 'SI1', 'SI2', 'VS1', 'VS2', 'VVS1', 'VVS2']\n",
    "\n",
    "    cut_encoded = [1 if cut == category else 0 for category in cut_categories]\n",
    "    color_encoded = [1 if color == category else 0 for category in color_categories]\n",
    "    clarity_encoded = [1 if clarity == category else 0 for category in clarity_categories]\n",
    "\n",
    "    # Prepare input features\n",
    "    input_features = [carat, x, y, z] + cut_encoded + color_encoded + clarity_encoded\n",
    "    input_features_array = np.array(input_features).reshape(1, -1)\n",
    "\n",
    "    # Predict using the model\n",
    "    return model.predict(input_features_array)[0]"
   ]
  },
  {
   "cell_type": "code",
   "execution_count": 12,
   "id": "e09b7d83",
   "metadata": {},
   "outputs": [
    {
     "name": "stdout",
     "output_type": "stream",
     "text": [
      "Predicted Price: 3440.86\n"
     ]
    },
    {
     "name": "stderr",
     "output_type": "stream",
     "text": [
      "c:\\Python312\\Lib\\site-packages\\sklearn\\base.py:493: UserWarning: X does not have valid feature names, but RandomForestRegressor was fitted with feature names\n",
      "  warnings.warn(\n"
     ]
    }
   ],
   "source": [
    "# Example usage:\n",
    "carat_input = 0.7\n",
    "cut_input = 'Ideal'\n",
    "color_input = 'E'\n",
    "clarity_input = 'VS1'\n",
    "x_input = 5.73\n",
    "y_input = 5.75\n",
    "z_input = 3.55\n",
    "predicted_price = predict_price(carat_input, cut_input, color_input, clarity_input, x_input, y_input, z_input)\n",
    "print(f\"Predicted Price: {predicted_price}\")"
   ]
  },
  {
   "cell_type": "code",
   "execution_count": 13,
   "id": "b0b492a4",
   "metadata": {},
   "outputs": [
    {
     "name": "stdout",
     "output_type": "stream",
     "text": [
      "Original Predicted Price: 569.7\n",
      "Expected  Price 326\n"
     ]
    },
    {
     "name": "stderr",
     "output_type": "stream",
     "text": [
      "c:\\Python312\\Lib\\site-packages\\sklearn\\base.py:493: UserWarning: X does not have valid feature names, but RandomForestRegressor was fitted with feature names\n",
      "  warnings.warn(\n"
     ]
    }
   ],
   "source": [
    "# Example usage with original data:\n",
    "original_carat_input = 0.23\n",
    "original_cut_input = 'Ideal'\n",
    "original_color_input = 'E'\n",
    "original_clarity_input = 'SI2'\n",
    "original_x_input = 3.95\n",
    "original_y_input = 3.98\n",
    "original_z_input = 2.43\n",
    "original_predicted_price = predict_price(original_carat_input, original_cut_input, original_color_input, original_clarity_input, original_x_input, original_y_input, original_z_input)\n",
    "print(f\"Original Predicted Price: {original_predicted_price}\")\n",
    "print(f\"Expected  Price 326\")"
   ]
  }
 ],
 "metadata": {
  "jupytext": {
   "cell_metadata_filter": "-all",
   "main_language": "python",
   "notebook_metadata_filter": "-all"
  },
  "kernelspec": {
   "display_name": "Python 3",
   "language": "python",
   "name": "python3"
  },
  "language_info": {
   "codemirror_mode": {
    "name": "ipython",
    "version": 3
   },
   "file_extension": ".py",
   "mimetype": "text/x-python",
   "name": "python",
   "nbconvert_exporter": "python",
   "pygments_lexer": "ipython3",
   "version": "3.12.2"
  }
 },
 "nbformat": 4,
 "nbformat_minor": 5
}
