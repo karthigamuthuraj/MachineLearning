{
 "cells": [
  {
   "cell_type": "code",
   "execution_count": 1,
   "id": "2a619353-9779-40ca-81b0-c8acc7525b54",
   "metadata": {},
   "outputs": [
    {
     "name": "stdout",
     "output_type": "stream",
     "text": [
      " * Serving Flask app '__main__'\n",
      " * Debug mode: on\n"
     ]
    },
    {
     "name": "stderr",
     "output_type": "stream",
     "text": [
      "WARNING: This is a development server. Do not use it in a production deployment. Use a production WSGI server instead.\n",
      " * Running on http://127.0.0.1:5000\n",
      "Press CTRL+C to quit\n",
      " * Restarting with stat\n"
     ]
    },
    {
     "ename": "SystemExit",
     "evalue": "1",
     "output_type": "error",
     "traceback": [
      "An exception has occurred, use %tb to see the full traceback.\n",
      "\u001b[1;31mSystemExit\u001b[0m\u001b[1;31m:\u001b[0m 1\n"
     ]
    },
    {
     "name": "stderr",
     "output_type": "stream",
     "text": [
      "C:\\Users\\Admin\\AppData\\Roaming\\Python\\Python312\\site-packages\\IPython\\core\\interactiveshell.py:3585: UserWarning: To exit: use 'exit', 'quit', or Ctrl-D.\n",
      "  warn(\"To exit: use 'exit', 'quit', or Ctrl-D.\", stacklevel=1)\n"
     ]
    }
   ],
   "source": [
    "from flask import Flask, request, jsonify\n",
    "import joblib\n",
    "import numpy as np\n",
    "\n",
    "# Load the trained model\n",
    "model = joblib.load('final_model_multilinear_diamond_price.sav')\n",
    "\n",
    "# Create a Flask app\n",
    "app = Flask(__name__)\n",
    "\n",
    "# One-hot encoding functions\n",
    "def encode_cut(cut):\n",
    "    return [1 if cut == category else 0 for category in ['Fair', 'Good', 'Ideal', 'Premium', 'Very Good']]\n",
    "\n",
    "def encode_color(color):\n",
    "    return [1 if color == category else 0 for category in ['D', 'E', 'F', 'G', 'H', 'I', 'J']]\n",
    "\n",
    "def encode_clarity(clarity):\n",
    "    return [1 if clarity == category else 0 for category in ['I1', 'IF', 'SI1', 'SI2', 'VS1', 'VS2', 'VVS1', 'VVS2']]\n",
    "\n",
    "@app.route('/predict', methods=['POST'])\n",
    "def predict():\n",
    "    data = request.json\n",
    "    try:\n",
    "        carat_input = data['carat']\n",
    "        cut_input = data['cut']\n",
    "        color_input = data['color']\n",
    "        clarity_input = data['clarity']\n",
    "        x_input = data['x']\n",
    "        y_input = data['y']\n",
    "        z_input = data['z']\n",
    "\n",
    "        # One-hot encode the categorical inputs\n",
    "        cut_encoded = encode_cut(cut_input)\n",
    "        color_encoded = encode_color(color_input)\n",
    "        clarity_encoded = encode_clarity(clarity_input)\n",
    "\n",
    "        # Combine all inputs\n",
    "        input_features = [carat_input, x_input, y_input, z_input] + cut_encoded + color_encoded + clarity_encoded\n",
    "        input_features_array = np.array(input_features).reshape(1, -1)\n",
    "\n",
    "        # Make prediction\n",
    "        prediction = model.predict(input_features_array)\n",
    "\n",
    "        return jsonify({'prediction': prediction[0]})\n",
    "    except Exception as e:\n",
    "        return jsonify({'error': str(e)})\n",
    "\n",
    "if __name__ == '__main__':\n",
    "    app.run(debug=True)\n"
   ]
  },
  {
   "cell_type": "code",
   "execution_count": null,
   "id": "8cf40a95-665d-4e11-8932-c806bfd2cdc1",
   "metadata": {},
   "outputs": [],
   "source": []
  }
 ],
 "metadata": {
  "kernelspec": {
   "display_name": "Python 3 (ipykernel)",
   "language": "python",
   "name": "python3"
  },
  "language_info": {
   "codemirror_mode": {
    "name": "ipython",
    "version": 3
   },
   "file_extension": ".py",
   "mimetype": "text/x-python",
   "name": "python",
   "nbconvert_exporter": "python",
   "pygments_lexer": "ipython3",
   "version": "3.12.2"
  }
 },
 "nbformat": 4,
 "nbformat_minor": 5
}
