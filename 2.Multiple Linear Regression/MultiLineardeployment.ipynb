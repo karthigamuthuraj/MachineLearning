{
 "cells": [
  {
   "cell_type": "code",
   "execution_count": 5,
   "id": "2a619353-9779-40ca-81b0-c8acc7525b54",
   "metadata": {},
   "outputs": [
    {
     "name": "stdout",
     "output_type": "stream",
     "text": [
      "Prediction: [[3980.2421953]]\n"
     ]
    },
    {
     "name": "stderr",
     "output_type": "stream",
     "text": [
      "c:\\Python312\\Lib\\site-packages\\sklearn\\base.py:493: UserWarning: X does not have valid feature names, but LinearRegression was fitted with feature names\n",
      "  warnings.warn(\n"
     ]
    }
   ],
   "source": [
    "import pickle\n",
    "import numpy as np\n",
    "load_model=pickle.load(open(\"final_model_multilinear_diamond_price.sav\",'rb'))\n",
    "\n",
    "carat_input = 0.7\n",
    "cut_input = 'Ideal'\n",
    "color_input = 'E'\n",
    "clarity_input = 'VS1'\n",
    "x_input = 5.73\n",
    "y_input = 5.75\n",
    "z_input = 3.55\n",
    "\n",
    "# One-hot encoding for the cut, color, and clarity\n",
    "cut_encoded = [1 if cut_input == category else 0 for category in ['Fair', 'Good', 'Ideal', 'Premium', 'Very Good']]\n",
    "color_encoded = [1 if color_input == category else 0 for category in ['D', 'E', 'F', 'G', 'H', 'I', 'J']]\n",
    "clarity_encoded = [1 if clarity_input == category else 0 for category in ['I1', 'IF', 'SI1', 'SI2', 'VS1', 'VS2', 'VVS1', 'VVS2']]\n",
    "\n",
    "# Combine all the inputs in the correct order\n",
    "input_features = [carat_input, x_input, y_input, z_input] + cut_encoded + color_encoded + clarity_encoded\n",
    "\n",
    "# Convert to numpy array and reshape for a single prediction\n",
    "input_features_array = np.array(input_features).reshape(1, -1)\n",
    "\n",
    "# Predict using the model\n",
    "result = load_model.predict(input_features_array)\n",
    "\n",
    "print(f\"Prediction: {result}\")"
   ]
  },
  {
   "cell_type": "code",
   "execution_count": null,
   "id": "8cf40a95-665d-4e11-8932-c806bfd2cdc1",
   "metadata": {},
   "outputs": [],
   "source": []
  }
 ],
 "metadata": {
  "kernelspec": {
   "display_name": "Python 3 (ipykernel)",
   "language": "python",
   "name": "python3"
  },
  "language_info": {
   "codemirror_mode": {
    "name": "ipython",
    "version": 3
   },
   "file_extension": ".py",
   "mimetype": "text/x-python",
   "name": "python",
   "nbconvert_exporter": "python",
   "pygments_lexer": "ipython3",
   "version": "3.12.2"
  }
 },
 "nbformat": 4,
 "nbformat_minor": 5
}
