{
 "cells": [
  {
   "cell_type": "code",
   "execution_count": 23,
   "metadata": {},
   "outputs": [
    {
     "name": "stdout",
     "output_type": "stream",
     "text": [
      "   age     sex     bmi  children smoker      charges\n",
      "0   19  female  27.900         0    yes  16884.92400\n",
      "1   18    male  33.770         1     no   1725.55230\n",
      "2   28    male  33.000         3     no   4449.46200\n",
      "3   33    male  22.705         0     no  21984.47061\n",
      "4   32    male  28.880         0     no   3866.85520\n",
      "<class 'pandas.core.frame.DataFrame'>\n",
      "RangeIndex: 1338 entries, 0 to 1337\n",
      "Data columns (total 6 columns):\n",
      " #   Column    Non-Null Count  Dtype  \n",
      "---  ------    --------------  -----  \n",
      " 0   age       1338 non-null   int64  \n",
      " 1   sex       1338 non-null   object \n",
      " 2   bmi       1338 non-null   float64\n",
      " 3   children  1338 non-null   int64  \n",
      " 4   smoker    1338 non-null   object \n",
      " 5   charges   1338 non-null   float64\n",
      "dtypes: float64(2), int64(2), object(2)\n",
      "memory usage: 62.8+ KB\n",
      "None\n"
     ]
    }
   ],
   "source": [
    "import pandas as pd\n",
    "\n",
    "# Load the dataset\n",
    "data = pd.read_csv('insurance_pre.csv')\n",
    "\n",
    "# Inspect the dataset\n",
    "print(data.head())\n",
    "print(data.info())\n"
   ]
  },
  {
   "cell_type": "code",
   "execution_count": 24,
   "metadata": {},
   "outputs": [],
   "source": [
    "from sklearn.preprocessing import StandardScaler\n",
    "\n",
    "# One-hot encode categorical variables\n",
    "data = pd.get_dummies(data, drop_first=True)\n",
    "\n",
    "# Standardize the numerical features\n",
    "scaler = StandardScaler()\n",
    "numerical_features = ['age', 'bmi', 'children']\n",
    "data[numerical_features] = scaler.fit_transform(data[numerical_features])\n",
    "\n",
    "# Separate features and target\n",
    "X = data.drop('charges', axis=1)\n",
    "y = data['charges']"
   ]
  },
  {
   "cell_type": "code",
   "execution_count": 25,
   "metadata": {},
   "outputs": [
    {
     "name": "stdout",
     "output_type": "stream",
     "text": [
      "Best parameters for Linear Regression: {}\n",
      "R² score for Linear Regression: 0.7811302113434095\n",
      "Best parameters for Support Vector Regression (SVR): {'C': 10, 'gamma': 0.01, 'kernel': 'linear'}\n",
      "R² score for Support Vector Regression (SVR): 0.04845564888908371\n",
      "Best parameters for Decision Tree Regression: {'max_depth': 10, 'min_samples_split': 10}\n",
      "R² score for Decision Tree Regression: 0.7841900691143723\n",
      "Best parameters for Random Forest Regression: {'max_depth': 10, 'min_samples_split': 10, 'n_estimators': 50}\n",
      "R² score for Random Forest Regression: 0.8643858349688659\n",
      "                             Model  R² Score\n",
      "0                Linear Regression  0.781130\n",
      "1  Support Vector Regression (SVR)  0.048456\n",
      "2         Decision Tree Regression  0.784190\n",
      "3         Random Forest Regression  0.864386\n"
     ]
    }
   ],
   "source": [
    "from sklearn.model_selection import GridSearchCV, train_test_split\n",
    "from sklearn.linear_model import LinearRegression\n",
    "from sklearn.svm import SVR\n",
    "from sklearn.tree import DecisionTreeRegressor\n",
    "from sklearn.ensemble import RandomForestRegressor\n",
    "from sklearn.metrics import r2_score\n",
    "\n",
    "# Split the data into training and testing sets\n",
    "X_train, X_test, y_train, y_test = train_test_split(X, y, test_size=0.2, random_state=42)\n",
    "\n",
    "# Define the models and their hyperparameters for GridSearchCV\n",
    "models = {\n",
    "    'Linear Regression': {\n",
    "        'model': LinearRegression(),\n",
    "        'params': {}\n",
    "    },\n",
    "    'Support Vector Regression (SVR)': {\n",
    "        'model': SVR(),\n",
    "        'params': {\n",
    "            'C': [0.1, 1, 10],\n",
    "            'gamma': [0.01, 0.1, 1],\n",
    "            'kernel': ['rbf', 'linear']\n",
    "        }\n",
    "    },\n",
    "    'Decision Tree Regression': {\n",
    "        'model': DecisionTreeRegressor(),\n",
    "        'params': {\n",
    "            'max_depth': [None, 10, 20, 30],\n",
    "            'min_samples_split': [2, 5, 10]\n",
    "        }\n",
    "    },\n",
    "    'Random Forest Regression': {\n",
    "        'model': RandomForestRegressor(),\n",
    "        'params': {\n",
    "            'n_estimators': [50, 100, 200],\n",
    "            'max_depth': [None, 10, 20],\n",
    "            'min_samples_split': [2, 5, 10]\n",
    "        }\n",
    "    }\n",
    "}\n",
    "\n",
    "# Function to perform GridSearchCV and return the best model and its R2 score\n",
    "def perform_grid_search(models, X_train, y_train, X_test, y_test):\n",
    "    results = {}\n",
    "    for name, model_info in models.items():\n",
    "        clf = GridSearchCV(model_info['model'], model_info['params'], cv=5, scoring='r2', n_jobs=-1)\n",
    "        clf.fit(X_train, y_train)\n",
    "        y_pred = clf.best_estimator_.predict(X_test)\n",
    "        r2 = r2_score(y_test, y_pred)\n",
    "        results[name] = r2\n",
    "        print(f\"Best parameters for {name}: {clf.best_params_}\")\n",
    "        print(f\"R² score for {name}: {r2}\")\n",
    "    return results\n",
    "\n",
    "# Perform grid search for all models and get their R2 scores\n",
    "results = perform_grid_search(models, X_train, y_train, X_test, y_test)\n",
    "\n",
    "# Print the results in a table format\n",
    "results_df = pd.DataFrame(list(results.items()), columns=['Model', 'R² Score'])\n",
    "print(results_df)\n"
   ]
  }
 ],
 "metadata": {
  "kernelspec": {
   "display_name": "Python 3",
   "language": "python",
   "name": "python3"
  },
  "language_info": {
   "codemirror_mode": {
    "name": "ipython",
    "version": 3
   },
   "file_extension": ".py",
   "mimetype": "text/x-python",
   "name": "python",
   "nbconvert_exporter": "python",
   "pygments_lexer": "ipython3",
   "version": "3.12.2"
  }
 },
 "nbformat": 4,
 "nbformat_minor": 2
}
