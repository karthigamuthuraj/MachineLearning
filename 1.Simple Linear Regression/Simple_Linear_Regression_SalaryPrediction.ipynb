{
 "cells": [
  {
   "cell_type": "code",
   "execution_count": null,
   "id": "5984bbb9",
   "metadata": {},
   "outputs": [],
   "source": [
    "# Import necessary libraries\n",
    "# Importing the required libraries for data manipulation, model training, and saving the model.\n",
    "import pandas as pd\n",
    "from sklearn.model_selection import train_test_split\n",
    "from sklearn.linear_model import LinearRegression\n",
    "from sklearn.metrics import r2_score\n",
    "import pickle"
   ]
  },
  {
   "cell_type": "code",
   "execution_count": null,
   "id": "a7a02615",
   "metadata": {},
   "outputs": [],
   "source": [
    "# Load the dataset\n",
    "# Loading the dataset from a CSV file.\n",
    "dataset = pd.read_csv(\"Salary_Data.csv\")"
   ]
  },
  {
   "cell_type": "code",
   "execution_count": null,
   "id": "6ae0f88d",
   "metadata": {},
   "outputs": [],
   "source": [
    "# Display the dataset\n",
    "# Displaying the dataset to ensure it’s loaded correctly.\n",
    "dataset"
   ]
  },
  {
   "cell_type": "code",
   "execution_count": null,
   "id": "443380e9",
   "metadata": {},
   "outputs": [],
   "source": [
    "# Split input (YearsExperience) and output (Salary)\n",
    "# Separating the features (YearsExperience) and target variable (Salary).\n",
    "inputData = dataset[[\"YearsExperience\"]]\n",
    "outputData = dataset[[\"Salary\"]]"
   ]
  },
  {
   "cell_type": "code",
   "execution_count": null,
   "id": "f2cd7ed2",
   "metadata": {},
   "outputs": [],
   "source": [
    "# Split the data into training and testing sets (70% training, 30% testing)\n",
    "# Dividing the dataset into training and testing sets with a 70-30 split ratio.\n",
    "X_train, X_test, y_train, y_test = train_test_split(inputData, outputData, test_size=0.30, random_state=0)"
   ]
  },
  {
   "cell_type": "code",
   "execution_count": null,
   "id": "076a5781",
   "metadata": {},
   "outputs": [],
   "source": [
    "# Instantiate the Linear Regression model\n",
    "# Creating an instance of the Linear Regression model.\n",
    "regressor = LinearRegression()"
   ]
  },
  {
   "cell_type": "code",
   "execution_count": null,
   "id": "f092d640",
   "metadata": {},
   "outputs": [],
   "source": [
    "# Train the model using the training data\n",
    "# Training the model with the training data.\n",
    "regressor.fit(X_train, y_train)"
   ]
  },
  {
   "cell_type": "code",
   "execution_count": null,
   "id": "0155e067",
   "metadata": {},
   "outputs": [],
   "source": [
    "# Get the slope (weight) of the regression line\n",
    "# Retrieving the slope (weight) of the regression line.\n",
    "weight = regressor.coef_\n",
    "weight"
   ]
  },
  {
   "cell_type": "code",
   "execution_count": null,
   "id": "b96e4d59",
   "metadata": {},
   "outputs": [],
   "source": [
    "# Get the bias (intercept) of the regression line\n",
    "# Retrieving the bias (intercept) of the regression line.\n",
    "bias = regressor.intercept_\n",
    "bias"
   ]
  },
  {
   "cell_type": "code",
   "execution_count": null,
   "id": "bb2f66c3",
   "metadata": {},
   "outputs": [],
   "source": [
    "# Predict the test set results\n",
    "# Predicting the salaries for the test set.\n",
    "y_pred = regressor.predict(X_test)"
   ]
  },
  {
   "cell_type": "code",
   "execution_count": null,
   "id": "5699a47d",
   "metadata": {},
   "outputs": [],
   "source": [
    "# Calculate the R-squared score to evaluate the model performance\n",
    "# Evaluating the model performance using the R-squared score.\n",
    "r_score = r2_score(y_test, y_pred)\n",
    "r_score"
   ]
  },
  {
   "cell_type": "code",
   "execution_count": null,
   "id": "58696639",
   "metadata": {},
   "outputs": [],
   "source": [
    "# Save the trained model to disk\n",
    "# Saving the trained model to a file using pickle.\n",
    "filename = \"finalized_model_linear.sav\"\n",
    "pickle.dump(regressor, open(filename, 'wb'))"
   ]
  },
  {
   "cell_type": "code",
   "execution_count": null,
   "id": "ed56e652",
   "metadata": {},
   "outputs": [],
   "source": [
    "# Load the saved model to check\n",
    "#Loading the saved model to verify it was saved correctly.\n",
    "loaded_model = pickle.load(open(\"finalized_model_linear.sav\", \"rb\"))"
   ]
  },
  {
   "cell_type": "code",
   "execution_count": null,
   "id": "eb808de5",
   "metadata": {},
   "outputs": [],
   "source": [
    "# Make a prediction using the loaded model for 15 years of experience\n",
    "# Using the loaded model to predict the salary for an individual with 15 years of experience.\n",
    "result = loaded_model.predict([[15]])\n",
    "result"
   ]
  }
 ],
 "metadata": {
  "jupytext": {
   "cell_metadata_filter": "-all",
   "main_language": "python",
   "notebook_metadata_filter": "-all"
  }
 },
 "nbformat": 4,
 "nbformat_minor": 5
}
